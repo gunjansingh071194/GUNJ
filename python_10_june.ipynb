{
  "nbformat": 4,
  "nbformat_minor": 0,
  "metadata": {
    "colab": {
      "provenance": []
    },
    "kernelspec": {
      "name": "python3",
      "display_name": "Python 3"
    },
    "language_info": {
      "name": "python"
    }
  },
  "cells": [
    {
      "cell_type": "code",
      "execution_count": null,
      "metadata": {
        "id": "l59FxoAq8US_"
      },
      "outputs": [],
      "source": [
        "1-What is python &why is it popular ?\n",
        "Ans-python is a high level ,object oriented ,general purpose programming language known for its readability and versatility.\n",
        "    python is a popular program lanuguage .It was created by Guido Van Rossum and released in 20 feb 1991 .\n",
        "    Its widely used in various field like Web Development ,Data Analysis,Machine learing and more..\n",
        "    Its widely used in various field like Web Development ,Data Analysis,Machine learing and more.."
      ]
    },
    {
      "cell_type": "markdown",
      "source": [],
      "metadata": {
        "id": "q6ViEGJCUbM_"
      }
    },
    {
      "cell_type": "code",
      "source": [
        "2-What is an interpreter in python?\n",
        "Ans-An interpreter is a program that reads and execute python code line by line .Interpreter reads the code ,analyzes it,and then execute each line sequentially."
      ],
      "metadata": {
        "id": "DtLsuhZjfHJk"
      },
      "execution_count": null,
      "outputs": []
    },
    {
      "cell_type": "code",
      "source": [
        "3-What are predefine keywords in python ?\n",
        "Ans-python has a set of keywords that are reserved words that cannot be used as variable names or function names.or any other identifiers.\n",
        "    Keywords like---and,as,assert,break,class,continue,def,del,elif,else,except,finally,for,from,global,if,import,in,is,lambda,nonlocal,not,or,pass,raise,return,try,while,yield"
      ],
      "metadata": {
        "id": "yOS9ZgO8fIFW"
      },
      "execution_count": null,
      "outputs": []
    },
    {
      "cell_type": "code",
      "source": [
        "4-Can keywords be used as a variable names?\n",
        "Ans-No,keywords cannot be used as variable names in python .\n",
        "   Python are reserved words that have specific meaning in the python language ,and using them as variable names would causes a syntax error."
      ],
      "metadata": {
        "id": "cNYoV82ZEgKw"
      },
      "execution_count": null,
      "outputs": []
    },
    {
      "cell_type": "code",
      "source": [
        "5-What is mutability in python ?\n",
        "Ans- In python,mutability refers to an objects ability to be modified after its created.\n",
        "     A mutable object can have its state or value changed in place ,without creating a new object ."
      ],
      "metadata": {
        "id": "pzIz2MeHGDnm"
      },
      "execution_count": null,
      "outputs": []
    },
    {
      "cell_type": "code",
      "source": [
        "6-Why are lists mutable ,but tuples are immutable?\n",
        " Ans-lists can be modified ,meaning their elements can be changed ,added or removed after creation .\n",
        "     Tuples can not be modified after creation .Any attempt to change an element will result in an error."
      ],
      "metadata": {
        "id": "t2zYejCvGc2k"
      },
      "execution_count": null,
      "outputs": []
    },
    {
      "cell_type": "code",
      "source": [
        "7-What are the difference between ''==''and ''is''operation in python\n",
        "Ans- ''==\"\"Equality operator checks for the equality of values ,not object identity.Compare the value of two objects .It returns true if the value are equal and false otherwise .\n",
        "      ''is\"Identity Operator used to check if two variable point to the same object in memory .if they do ,the expression x is y returns True.Otherwise ,it returns False.\n",
        "      it does not compare the values ,just whether they point to the same object.s"
      ],
      "metadata": {
        "id": "XF0ni9fPD-Sd"
      },
      "execution_count": null,
      "outputs": []
    },
    {
      "cell_type": "code",
      "source": [
        "8-What are logical operator in python ?\n",
        "Ans-Logical operator in python are used to combine or modify boolean expressions (True or False).\n",
        "    There are three main logical operator and ,or,not.\n",
        "    and--return True if both operands are True,otherwise return False.\n",
        "    or--return True if at least one of the operands is True .Otherwise returns False .\n",
        "    not--returns True if the operand is False and false if the operand is True ."
      ],
      "metadata": {
        "id": "Su4I_Cr9fNry"
      },
      "execution_count": null,
      "outputs": []
    },
    {
      "cell_type": "code",
      "source": [
        "9-What is type casting in python ?\n",
        "Ans-Type casting in python is the process of converting a variable from one data type to another .\n",
        "    This is useful when you need to perform operations that require variables of a specific data type or when you want to represent data in different format."
      ],
      "metadata": {
        "id": "rmVS_hT2g8LX"
      },
      "execution_count": null,
      "outputs": []
    },
    {
      "cell_type": "code",
      "source": [
        "10-What is the difference between implicit and explicit type casting?\n",
        "Ans-Implicit type casting also known as widening .In this method Python converts the datatype in to another data type automatically.\n",
        "    Users do'nt have to involve in this process.\n",
        "    Explicit type casting python needs user involvement to convert the variable data type in to the required data type."
      ],
      "metadata": {
        "id": "BFjjdviBiT-o"
      },
      "execution_count": null,
      "outputs": []
    },
    {
      "cell_type": "code",
      "source": [
        "11-What is the purpose of conditional statement in python ?\n",
        "Ans- Conditional statement in python are used to eecute certain blocks of code based on specific  conditions.\n",
        "     These statements help control the flow of a program ,making it behave differently in different situation.\n",
        "     Conditional statement --If,If else,elif ,Nested if ..else,,Ternary ,,Match -case."
      ],
      "metadata": {
        "colab": {
          "base_uri": "https://localhost:8080/",
          "height": 106
        },
        "id": "yK-AFFTKW12P",
        "outputId": "e63acc19-4158-41f7-a1b2-eb2be113aa6b",
        "collapsed": true
      },
      "execution_count": null,
      "outputs": [
        {
          "output_type": "error",
          "ename": "SyntaxError",
          "evalue": "invalid syntax (<ipython-input-5-c9d76503892d>, line 1)",
          "traceback": [
            "\u001b[0;36m  File \u001b[0;32m\"<ipython-input-5-c9d76503892d>\"\u001b[0;36m, line \u001b[0;32m1\u001b[0m\n\u001b[0;31m    11-What is the purpose of conditional statement in python ?\u001b[0m\n\u001b[0m                   ^\u001b[0m\n\u001b[0;31mSyntaxError\u001b[0m\u001b[0;31m:\u001b[0m invalid syntax\n"
          ]
        }
      ]
    },
    {
      "cell_type": "code",
      "source": [
        "12-How does the elif statement work ?\n",
        " Ans-The 'elif'keyword in python ,standsfor \"else if\".It can be used in conditional statement to check for multiple conditions.\n",
        " For Example-if the first condition is false ,it moves on to the next ''elif\"statement to check if that condition is true."
      ],
      "metadata": {
        "id": "RUx37-WSW29v"
      },
      "execution_count": null,
      "outputs": []
    },
    {
      "cell_type": "code",
      "source": [
        "13-What is the difference between for and while loops?\n",
        "Ans-For loop is used to iterate over a sequence of items such as a python tuple,list,string,or range.For loop are designed for iterating over a sequence of items.\n",
        "    While loop is used to repeatedly execute a block of statements while a condition is true.The loop will continue to run as long as the condition remains true."
      ],
      "metadata": {
        "id": "MFKJ2_nPW4SW"
      },
      "execution_count": null,
      "outputs": []
    },
    {
      "cell_type": "code",
      "source": [
        "14-Describe a scenario where a while loop is more suitable than a for loop\n",
        "Ans-A while loop is more suitable than a for loop when the number of iterations is not known in advance ."
      ],
      "metadata": {
        "id": "JnJbLmChW5Rh"
      },
      "execution_count": null,
      "outputs": []
    },
    {
      "cell_type": "markdown",
      "source": [
        "# **PRACTICAL QUESTION **"
      ],
      "metadata": {
        "id": "szpeO0hhW5X6"
      }
    },
    {
      "cell_type": "code",
      "source": [
        "# 1- Write a python program to print hello world.\n",
        "print(\"hello world\")\n"
      ],
      "metadata": {
        "id": "wipJTFVibfiW",
        "colab": {
          "base_uri": "https://localhost:8080/"
        },
        "outputId": "3a73f89b-079e-41b8-bbdc-be12257102f0"
      },
      "execution_count": null,
      "outputs": [
        {
          "output_type": "stream",
          "name": "stdout",
          "text": [
            "hello world\n"
          ]
        }
      ]
    },
    {
      "cell_type": "code",
      "source": [
        "# 2-Write a python program that display your name and age .\n",
        "name=input(\"enter your name:\")\n",
        "age=input(\"enter your age:\")\n",
        "print(\"my name is: \",name,\"my age is :\",age)\n",
        "\n"
      ],
      "metadata": {
        "id": "qbTLMWqEPpMf",
        "colab": {
          "base_uri": "https://localhost:8080/"
        },
        "outputId": "6232bffa-1ec0-4118-cf69-69d90840091e"
      },
      "execution_count": null,
      "outputs": [
        {
          "output_type": "stream",
          "name": "stdout",
          "text": [
            "enter your name:gunjan\n",
            "enter your age:30\n",
            "my name is:  gunjan my age is : 30\n"
          ]
        }
      ]
    },
    {
      "cell_type": "code",
      "source": [
        "#  3-write code to print all the pre define keywords in python using the keyword librarY\n",
        "import keyword\n",
        "print(keyword.kwlist)"
      ],
      "metadata": {
        "id": "jCDXBugpf3XK",
        "colab": {
          "base_uri": "https://localhost:8080/"
        },
        "outputId": "df8876f6-33eb-4ea8-8cb4-5904503f8751"
      },
      "execution_count": null,
      "outputs": [
        {
          "output_type": "stream",
          "name": "stdout",
          "text": [
            "['False', 'None', 'True', 'and', 'as', 'assert', 'async', 'await', 'break', 'class', 'continue', 'def', 'del', 'elif', 'else', 'except', 'finally', 'for', 'from', 'global', 'if', 'import', 'in', 'is', 'lambda', 'nonlocal', 'not', 'or', 'pass', 'raise', 'return', 'try', 'while', 'with', 'yield']\n"
          ]
        }
      ]
    },
    {
      "cell_type": "code",
      "source": [
        "# 4- What a program that checks if a given words is a python keyword.\n",
        "s=\"for\"\n",
        "if s in keyword.list:\n",
        "  print(yes,\" for is a python keyword\")\n",
        "else:\n",
        "  print(no,\" for is not a python keyword\")\n",
        "\n",
        "\n",
        "\n"
      ],
      "metadata": {
        "id": "2l2-c6LAU5DL",
        "colab": {
          "base_uri": "https://localhost:8080/",
          "height": 211
        },
        "outputId": "cde98f4c-10ff-4551-f331-8a0f7bf5a135"
      },
      "execution_count": null,
      "outputs": [
        {
          "output_type": "error",
          "ename": "NameError",
          "evalue": "name 'keyword' is not defined",
          "traceback": [
            "\u001b[0;31m---------------------------------------------------------------------------\u001b[0m",
            "\u001b[0;31mNameError\u001b[0m                                 Traceback (most recent call last)",
            "\u001b[0;32m<ipython-input-4-b52d364949c1>\u001b[0m in \u001b[0;36m<cell line: 0>\u001b[0;34m()\u001b[0m\n\u001b[1;32m      1\u001b[0m \u001b[0;31m# 4- What a program that checks if a given words is a python keyword.\u001b[0m\u001b[0;34m\u001b[0m\u001b[0;34m\u001b[0m\u001b[0m\n\u001b[1;32m      2\u001b[0m \u001b[0ms\u001b[0m\u001b[0;34m=\u001b[0m\u001b[0;34m\"for\"\u001b[0m\u001b[0;34m\u001b[0m\u001b[0;34m\u001b[0m\u001b[0m\n\u001b[0;32m----> 3\u001b[0;31m \u001b[0;32mif\u001b[0m \u001b[0ms\u001b[0m \u001b[0;32min\u001b[0m \u001b[0mkeyword\u001b[0m\u001b[0;34m.\u001b[0m\u001b[0mlist\u001b[0m\u001b[0;34m:\u001b[0m\u001b[0;34m\u001b[0m\u001b[0;34m\u001b[0m\u001b[0m\n\u001b[0m\u001b[1;32m      4\u001b[0m   \u001b[0mprint\u001b[0m\u001b[0;34m(\u001b[0m\u001b[0myes\u001b[0m\u001b[0;34m,\u001b[0m\u001b[0;34m\" for is a python keyword\"\u001b[0m\u001b[0;34m)\u001b[0m\u001b[0;34m\u001b[0m\u001b[0;34m\u001b[0m\u001b[0m\n\u001b[1;32m      5\u001b[0m \u001b[0;32melse\u001b[0m\u001b[0;34m:\u001b[0m\u001b[0;34m\u001b[0m\u001b[0;34m\u001b[0m\u001b[0m\n",
            "\u001b[0;31mNameError\u001b[0m: name 'keyword' is not defined"
          ]
        }
      ]
    },
    {
      "cell_type": "code",
      "source": [
        "#  5-Create a list and tuple in python ,and demonstrate how attempt to change an elements works differetly for each.\n",
        "a=[1,2,3,4,5]\n",
        "a[0]=5\n",
        "print(a)\n",
        "b=(\"apple\",\"orange\",\"banana\")\n",
        "b[0]=\"cherry\"\n",
        "print(b)"
      ],
      "metadata": {
        "colab": {
          "base_uri": "https://localhost:8080/",
          "height": 211
        },
        "id": "tmWrunTsXCx5",
        "outputId": "367834d9-a5e2-40a9-ab72-4f9b652f1eba"
      },
      "execution_count": null,
      "outputs": [
        {
          "output_type": "stream",
          "name": "stdout",
          "text": [
            "[5, 2, 3, 4, 5]\n"
          ]
        },
        {
          "output_type": "error",
          "ename": "TypeError",
          "evalue": "'tuple' object does not support item assignment",
          "traceback": [
            "\u001b[0;31m---------------------------------------------------------------------------\u001b[0m",
            "\u001b[0;31mTypeError\u001b[0m                                 Traceback (most recent call last)",
            "\u001b[0;32m<ipython-input-2-2c8dc945166f>\u001b[0m in \u001b[0;36m<cell line: 0>\u001b[0;34m()\u001b[0m\n\u001b[1;32m      4\u001b[0m \u001b[0mprint\u001b[0m\u001b[0;34m(\u001b[0m\u001b[0ma\u001b[0m\u001b[0;34m)\u001b[0m\u001b[0;34m\u001b[0m\u001b[0;34m\u001b[0m\u001b[0m\n\u001b[1;32m      5\u001b[0m \u001b[0mb\u001b[0m\u001b[0;34m=\u001b[0m\u001b[0;34m(\u001b[0m\u001b[0;34m\"apple\"\u001b[0m\u001b[0;34m,\u001b[0m\u001b[0;34m\"orange\"\u001b[0m\u001b[0;34m,\u001b[0m\u001b[0;34m\"banana\"\u001b[0m\u001b[0;34m)\u001b[0m\u001b[0;34m\u001b[0m\u001b[0;34m\u001b[0m\u001b[0m\n\u001b[0;32m----> 6\u001b[0;31m \u001b[0mb\u001b[0m\u001b[0;34m[\u001b[0m\u001b[0;36m0\u001b[0m\u001b[0;34m]\u001b[0m\u001b[0;34m=\u001b[0m\u001b[0;34m\"cherry\"\u001b[0m\u001b[0;34m\u001b[0m\u001b[0;34m\u001b[0m\u001b[0m\n\u001b[0m\u001b[1;32m      7\u001b[0m \u001b[0mprint\u001b[0m\u001b[0;34m(\u001b[0m\u001b[0mb\u001b[0m\u001b[0;34m)\u001b[0m\u001b[0;34m\u001b[0m\u001b[0;34m\u001b[0m\u001b[0m\n",
            "\u001b[0;31mTypeError\u001b[0m: 'tuple' object does not support item assignment"
          ]
        }
      ]
    },
    {
      "cell_type": "code",
      "source": [
        "# 6- Write a function to demonstrate the behaviour of mutable and immutable arguments.\n",
        "# mutable\n",
        "a=[1,2,3,4,5,6]\n",
        "a[2]=7\n",
        "print(a)\n",
        "#immutable\n",
        "b=(1,2,3,4,5,6)\n",
        "b[2]=7\n",
        "print(b)\n"
      ],
      "metadata": {
        "id": "A_CvsZIIaPyr",
        "colab": {
          "base_uri": "https://localhost:8080/",
          "height": 211
        },
        "outputId": "f5bee9ad-b70f-4a02-c5f4-d90ab4101745"
      },
      "execution_count": null,
      "outputs": [
        {
          "output_type": "stream",
          "name": "stdout",
          "text": [
            "[1, 2, 7, 4, 5, 6]\n"
          ]
        },
        {
          "output_type": "error",
          "ename": "TypeError",
          "evalue": "'tuple' object does not support item assignment",
          "traceback": [
            "\u001b[0;31m---------------------------------------------------------------------------\u001b[0m",
            "\u001b[0;31mTypeError\u001b[0m                                 Traceback (most recent call last)",
            "\u001b[0;32m<ipython-input-6-083007f90f77>\u001b[0m in \u001b[0;36m<cell line: 0>\u001b[0;34m()\u001b[0m\n\u001b[1;32m      6\u001b[0m \u001b[0;31m#immutable\u001b[0m\u001b[0;34m\u001b[0m\u001b[0;34m\u001b[0m\u001b[0m\n\u001b[1;32m      7\u001b[0m \u001b[0mb\u001b[0m\u001b[0;34m=\u001b[0m\u001b[0;34m(\u001b[0m\u001b[0;36m1\u001b[0m\u001b[0;34m,\u001b[0m\u001b[0;36m2\u001b[0m\u001b[0;34m,\u001b[0m\u001b[0;36m3\u001b[0m\u001b[0;34m,\u001b[0m\u001b[0;36m4\u001b[0m\u001b[0;34m,\u001b[0m\u001b[0;36m5\u001b[0m\u001b[0;34m,\u001b[0m\u001b[0;36m6\u001b[0m\u001b[0;34m)\u001b[0m\u001b[0;34m\u001b[0m\u001b[0;34m\u001b[0m\u001b[0m\n\u001b[0;32m----> 8\u001b[0;31m \u001b[0mb\u001b[0m\u001b[0;34m[\u001b[0m\u001b[0;36m2\u001b[0m\u001b[0;34m]\u001b[0m\u001b[0;34m=\u001b[0m\u001b[0;36m7\u001b[0m\u001b[0;34m\u001b[0m\u001b[0;34m\u001b[0m\u001b[0m\n\u001b[0m\u001b[1;32m      9\u001b[0m \u001b[0mprint\u001b[0m\u001b[0;34m(\u001b[0m\u001b[0mb\u001b[0m\u001b[0;34m)\u001b[0m\u001b[0;34m\u001b[0m\u001b[0;34m\u001b[0m\u001b[0m\n",
            "\u001b[0;31mTypeError\u001b[0m: 'tuple' object does not support item assignment"
          ]
        }
      ]
    },
    {
      "cell_type": "markdown",
      "source": [],
      "metadata": {
        "id": "miHUH4K3XB4C"
      }
    },
    {
      "cell_type": "code",
      "source": [
        "# 7- Write a program that perform basic arithmetic operations on two users -input numbers.\n",
        "a=10\n",
        "b=20\n",
        "print(a+b)\n",
        "print(a-b)\n",
        "print(a*b)\n",
        "print(a/b)\n",
        "print(a%b)\n",
        "print(a//b)\n",
        "print(a**b)\n"
      ],
      "metadata": {
        "id": "XsWeKoDSa5Ci",
        "colab": {
          "base_uri": "https://localhost:8080/"
        },
        "outputId": "0536356f-fbd4-4f38-eb39-aeee79e8d4bb"
      },
      "execution_count": null,
      "outputs": [
        {
          "output_type": "stream",
          "name": "stdout",
          "text": [
            "30\n",
            "-10\n",
            "200\n",
            "0.5\n",
            "10\n",
            "0\n",
            "100000000000000000000\n"
          ]
        }
      ]
    },
    {
      "cell_type": "code",
      "source": [
        "# 8- Write a program to demonstrate the use of logical operator.\n",
        "# or operator -if one values are true ,then result true .\n",
        " # 1\n",
        "a=True\n",
        "b=False\n",
        "print(a or b)\n",
        "# 2\n",
        "a=False\n",
        "b=False\n",
        "print(a or b)\n",
        "\n",
        "# And operator-if both value are True ,then result True\n",
        "# 1-\n",
        "a=True\n",
        "b=True\n",
        "print(a and b)\n",
        "# 2\n",
        "a =True\n",
        "b=False\n",
        "print(a and b)"
      ],
      "metadata": {
        "id": "FrnvD8AEbchh",
        "colab": {
          "base_uri": "https://localhost:8080/"
        },
        "outputId": "df25f217-404c-4093-a17f-d369b75e4963"
      },
      "execution_count": null,
      "outputs": [
        {
          "output_type": "stream",
          "name": "stdout",
          "text": [
            "True\n",
            "False\n",
            "True\n",
            "False\n"
          ]
        }
      ]
    },
    {
      "cell_type": "code",
      "source": [
        "# 9- Write a python program to convert user input from string to integer,float,and boolean type.\n",
        "a=\"apple\"\n",
        "print(type(a))\n",
        "a=int(a)\n",
        "print(type(a))\n"
      ],
      "metadata": {
        "id": "K509PFkGoRod",
        "colab": {
          "base_uri": "https://localhost:8080/",
          "height": 211
        },
        "outputId": "b4d17dbe-ba61-4d7d-90c0-c9b3fa77af7e"
      },
      "execution_count": null,
      "outputs": [
        {
          "output_type": "stream",
          "name": "stdout",
          "text": [
            "<class 'str'>\n"
          ]
        },
        {
          "output_type": "error",
          "ename": "ValueError",
          "evalue": "invalid literal for int() with base 10: 'apple'",
          "traceback": [
            "\u001b[0;31m---------------------------------------------------------------------------\u001b[0m",
            "\u001b[0;31mValueError\u001b[0m                                Traceback (most recent call last)",
            "\u001b[0;32m<ipython-input-9-6d84c2c66b67>\u001b[0m in \u001b[0;36m<cell line: 0>\u001b[0;34m()\u001b[0m\n\u001b[1;32m      2\u001b[0m \u001b[0ma\u001b[0m\u001b[0;34m=\u001b[0m\u001b[0;34m\"apple\"\u001b[0m\u001b[0;34m\u001b[0m\u001b[0;34m\u001b[0m\u001b[0m\n\u001b[1;32m      3\u001b[0m \u001b[0mprint\u001b[0m\u001b[0;34m(\u001b[0m\u001b[0mtype\u001b[0m\u001b[0;34m(\u001b[0m\u001b[0ma\u001b[0m\u001b[0;34m)\u001b[0m\u001b[0;34m)\u001b[0m\u001b[0;34m\u001b[0m\u001b[0;34m\u001b[0m\u001b[0m\n\u001b[0;32m----> 4\u001b[0;31m \u001b[0ma\u001b[0m\u001b[0;34m=\u001b[0m\u001b[0mint\u001b[0m\u001b[0;34m(\u001b[0m\u001b[0ma\u001b[0m\u001b[0;34m)\u001b[0m\u001b[0;34m\u001b[0m\u001b[0;34m\u001b[0m\u001b[0m\n\u001b[0m\u001b[1;32m      5\u001b[0m \u001b[0mprint\u001b[0m\u001b[0;34m(\u001b[0m\u001b[0mtype\u001b[0m\u001b[0;34m(\u001b[0m\u001b[0ma\u001b[0m\u001b[0;34m)\u001b[0m\u001b[0;34m)\u001b[0m\u001b[0;34m\u001b[0m\u001b[0;34m\u001b[0m\u001b[0m\n",
            "\u001b[0;31mValueError\u001b[0m: invalid literal for int() with base 10: 'apple'"
          ]
        }
      ]
    },
    {
      "cell_type": "code",
      "source": [
        "# 10- write code to demonstrate type casting with list elements.\n",
        "# type casting are 2 types -1--implicit type casting--IN python we use implicit type casting..In other programming language like c+,java uses explicit type casting.\n",
        "a=10\n",
        "print(type(a))\n",
        "a=\"tajmahal\"\n",
        "print(type(a))\n",
        "a=12.5\n",
        "print(type(a))"
      ],
      "metadata": {
        "id": "RejMt6W6pHc6",
        "colab": {
          "base_uri": "https://localhost:8080/"
        },
        "outputId": "0781311d-b2a5-41ef-9e2a-06c013959622"
      },
      "execution_count": null,
      "outputs": [
        {
          "output_type": "stream",
          "name": "stdout",
          "text": [
            "<class 'int'>\n",
            "<class 'str'>\n",
            "<class 'float'>\n"
          ]
        }
      ]
    },
    {
      "cell_type": "code",
      "source": [
        "#  11-Write a program that checks if a number is a positive,negative,zero.\n",
        "a=int(input(\"enter a number:\"))\n",
        "if a>0:\n",
        "  print(\"number is positive\")\n",
        "elif a<0:\n",
        "  print(\"number is negative\")\n",
        "else:\n",
        "  print(\"number is zero\")\n",
        "\n",
        "\n",
        "\n",
        "\n"
      ],
      "metadata": {
        "id": "MbLi74Oupui2",
        "colab": {
          "base_uri": "https://localhost:8080/"
        },
        "outputId": "9292ad8b-edcd-4595-dabc-b6014a9b5f2b"
      },
      "execution_count": null,
      "outputs": [
        {
          "output_type": "stream",
          "name": "stdout",
          "text": [
            "enter a number:5\n",
            "number is positive\n"
          ]
        }
      ]
    },
    {
      "cell_type": "code",
      "source": [
        "# 12- Write a for loop to print numbers from 1 to 10.\n",
        "for i in range(1,11):\n",
        "  print(i)\n"
      ],
      "metadata": {
        "id": "6F6Khh-jqtsz",
        "colab": {
          "base_uri": "https://localhost:8080/"
        },
        "outputId": "00846f8d-9665-46c2-a83f-b41bd03e8a18"
      },
      "execution_count": null,
      "outputs": [
        {
          "output_type": "stream",
          "name": "stdout",
          "text": [
            "1\n",
            "2\n",
            "3\n",
            "4\n",
            "5\n",
            "6\n",
            "7\n",
            "8\n",
            "9\n",
            "10\n"
          ]
        }
      ]
    },
    {
      "cell_type": "code",
      "source": [
        "# 13- Write a python program to find the sum of all even number between 1 and 50.\n",
        "for i in range(1,51):\n",
        "  if i%2==0:\n",
        "    print(i)\n"
      ],
      "metadata": {
        "id": "vB5g4kogseJP",
        "colab": {
          "base_uri": "https://localhost:8080/"
        },
        "outputId": "8e2dedc5-6c4a-4beb-feef-bae118d530b2"
      },
      "execution_count": null,
      "outputs": [
        {
          "output_type": "stream",
          "name": "stdout",
          "text": [
            "2\n",
            "4\n",
            "6\n",
            "8\n",
            "10\n",
            "12\n",
            "14\n",
            "16\n",
            "18\n",
            "20\n",
            "22\n",
            "24\n",
            "26\n",
            "28\n",
            "30\n",
            "32\n",
            "34\n",
            "36\n",
            "38\n",
            "40\n",
            "42\n",
            "44\n",
            "46\n",
            "48\n",
            "50\n"
          ]
        }
      ]
    },
    {
      "cell_type": "code",
      "source": [
        "# 14- Write a program to reverse a string using a while looP.\n"
      ],
      "metadata": {
        "id": "0I8cqPxTa9bw"
      },
      "execution_count": null,
      "outputs": []
    },
    {
      "cell_type": "code",
      "source": [
        "# 15- Write a python program to calculate the factorial of a number provided by the user using while loop.\n",
        "s=int(input(\"enter a number:\"))\n",
        "fact=1\n",
        "for i in range(1,s+1):\n",
        "  fact=fact*i\n",
        "print(fact)\n",
        "\n",
        "\n",
        "\n"
      ],
      "metadata": {
        "id": "my8t6EKrcv68"
      },
      "execution_count": null,
      "outputs": []
    }
  ]
}