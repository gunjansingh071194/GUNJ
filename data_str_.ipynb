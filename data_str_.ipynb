{
  "nbformat": 4,
  "nbformat_minor": 0,
  "metadata": {
    "colab": {
      "provenance": []
    },
    "kernelspec": {
      "name": "python3",
      "display_name": "Python 3"
    },
    "language_info": {
      "name": "python"
    }
  },
  "cells": [
    {
      "cell_type": "code",
      "execution_count": null,
      "metadata": {
        "id": "GksvHmAvCVGS"
      },
      "outputs": [],
      "source": [
        "# 1-What are data structure and why are they important.?\n",
        "  Data structure are the building blocks for oranizing and managing data in computer program,playing a vital role in efficiency ,performance and code clarity.\n",
        "  Data structure is a storage that is used to store and organize data.\n",
        "  A data structure is not only used for organizing the data.Its also used for processing,retrieving and storing data.\n",
        "  Data Structure are important for--Code clarity,problem solving,performance ,organization."
      ]
    },
    {
      "cell_type": "code",
      "source": [
        "# 2-Explain the difference between mutable and immutable data types with examples.?\n",
        "# Mutable data type --allow their values to be changed or modified after they are created.EX-Lists,Sets,Dictionaries.\n",
        "Lists-add,remove,or modify elements in a list after it is created.\n",
        "Sets-add,remove,or modify elements in a set after it is created.\n",
        "Dictionaries-add,remove,or modify key-value pairs in a dictionary after it is created.\n",
        "# Immutable data type-immutable data type do not allow their values to be changed or modified after they are created.Any attempt to modify them will creat a new object in memory\n",
        "EX-integers,floats,strings,tuples.\n",
        "strings-cannot be modified after they are created.\n",
        "tuples-cannot be modified after they are created.\n",
        "numbers-integer ,floatsand other numerical values are immutable .Once a number is created ,its value cannot be changed."
      ],
      "metadata": {
        "id": "ZxSByZcUKuh0"
      },
      "execution_count": null,
      "outputs": []
    },
    {
      "cell_type": "code",
      "source": [
        "# 3- What are the main differences between lists and tuples in Python.?\n",
        "  lists and tuples are both orderded sequences of items in python,but they differ primarily in their mutability.\n",
        "  lists are mutable ,uses square brackets[],data that may need to be modified ,s"
      ],
      "metadata": {
        "id": "rhyLhU_sFS0A"
      },
      "execution_count": null,
      "outputs": []
    },
    {
      "cell_type": "code",
      "source": [
        "# 4- Describe how dictionaries store data.?\n",
        "# Ans-  A Python dictionary is a data structure that stores the value in key: value pairs. Values in a dictionary can be of any data type and can be duplicated, whereas keys can’t be repeated and must be immutable.\n",
        "\n",
        "# Example: Here, The data is stored in key:value pairs in dictionaries, which makes it easier to find values.\n",
        "d={1:\"one\",2:\"two\",3:\"three\"}\n",
        "print(d[1])\n",
        "print(d[2])\n",
        "print(d[3])\n",
        "\n",
        "\n"
      ],
      "metadata": {
        "id": "7Mht1qe6v-4J",
        "colab": {
          "base_uri": "https://localhost:8080/"
        },
        "outputId": "e3b34b94-16d4-4ade-a6d9-7631dbfadab6"
      },
      "execution_count": null,
      "outputs": [
        {
          "output_type": "stream",
          "name": "stdout",
          "text": [
            "one\n",
            "two\n",
            "three\n"
          ]
        }
      ]
    },
    {
      "cell_type": "code",
      "source": [
        "# 5- Why might you use a set instead of a list in Python.\n",
        "  # In python ,both sets and lists are used to store collections of elements but they have key differences that make them suitable for different use cases.\n",
        "  # Sets--A set is an unorderded collection of unique elements.Sets are defined using curly brackets{}or the set ()functions.\n",
        "   # Creating a set\n",
        "s1 = {1,1,2,3,4,}\n",
        "s2 =set([4,5,6,7])\n",
        "print(s1)\n",
        "print(s2)\n",
        "   # Lists--A list is an ordered collection of elements.Lists are defined using square brackets[].\n",
        "   # Creating a list\n",
        "a=[1,1,2,3,4]\n",
        "b=list([4,5,6,7])\n",
        "print(a)\n",
        "print(b)\n"
      ],
      "metadata": {
        "id": "oaVixZFG4L2f",
        "colab": {
          "base_uri": "https://localhost:8080/"
        },
        "outputId": "68204f1f-dc00-45b2-fd02-1b01a9bc0462"
      },
      "execution_count": null,
      "outputs": [
        {
          "output_type": "stream",
          "name": "stdout",
          "text": [
            "{1, 2, 3, 4}\n",
            "{4, 5, 6, 7}\n",
            "[1, 1, 2, 3, 4]\n",
            "[4, 5, 6, 7]\n"
          ]
        }
      ]
    },
    {
      "cell_type": "code",
      "source": [
        "# 6- What is a string in Python, and how is it different from a list.?\n",
        " In Python, a string is an immutable sequence of characters, while a list is a mutable sequence of items, which can be of any data type.\n",
        " Strings are typically represented by text within single or double quotes, and they can only contain characters,\n",
        " whereas lists can hold various elements like numbers, other lists, or even strings.\n",
        " Strings have methods for string manipulation like split(), strip(), and replace().\n",
        " Lists have methods for modifying their elements, such as append(), remove(), and pop()."
      ],
      "metadata": {
        "id": "LXCP4eYE9wpP"
      },
      "execution_count": null,
      "outputs": []
    },
    {
      "cell_type": "code",
      "source": [
        "# 7- How do tuples ensure data integrity in Python.\n",
        "   A tuple is a collection which is orderded and unchangeable.\n",
        "   Tuples are immutable to ensure that their contents remain constant throughout their lifecycle,guranteeing data integrity and reliability."
      ],
      "metadata": {
        "id": "xxmrRY0-ACpp"
      },
      "execution_count": null,
      "outputs": []
    },
    {
      "cell_type": "code",
      "source": [
        "# 8- What is a hash table, and how does it relate to dictionaries in Python?"
      ],
      "metadata": {
        "id": "Jp3AWuY_GKko"
      },
      "execution_count": null,
      "outputs": []
    },
    {
      "cell_type": "code",
      "source": [
        "# 9- Can lists contain different data types in Python?\n"
      ],
      "metadata": {
        "id": "6YLmlIxrHKe0"
      },
      "execution_count": null,
      "outputs": []
    },
    {
      "cell_type": "code",
      "source": [
        "# 10-Explain why strings are immutable in Python.?"
      ],
      "metadata": {
        "id": "IVIxRvA9HVnG"
      },
      "execution_count": null,
      "outputs": []
    },
    {
      "cell_type": "code",
      "source": [
        "# 11- What advantages do dictionaries offer over lists for certain tasks.?"
      ],
      "metadata": {
        "id": "UaRFRNfFHVFM"
      },
      "execution_count": null,
      "outputs": []
    },
    {
      "cell_type": "code",
      "source": [
        " # 12- Describe a scenario where using a tuple would be preferable over a list.?"
      ],
      "metadata": {
        "id": "CCD2lBPHHuy9"
      },
      "execution_count": null,
      "outputs": []
    },
    {
      "cell_type": "code",
      "source": [
        "# 13-How do sets handle duplicate values in Python3"
      ],
      "metadata": {
        "id": "7QDeZjoVHvXK"
      },
      "execution_count": null,
      "outputs": []
    },
    {
      "cell_type": "code",
      "source": [
        "# 14- How does the “in” keyword work differently for lists and dictionaries?\n"
      ],
      "metadata": {
        "id": "xrk8w0LNH7v1"
      },
      "execution_count": null,
      "outputs": []
    },
    {
      "cell_type": "code",
      "source": [
        "# 15-Can you modify the elements of a tuple? Explain why or why not.?"
      ],
      "metadata": {
        "id": "Vvm5yH1fHwNx"
      },
      "execution_count": null,
      "outputs": []
    },
    {
      "cell_type": "code",
      "source": [
        "# 16-What is a nested dictionary, and give an example of its use case?"
      ],
      "metadata": {
        "id": "YnxXKXbhIdHr"
      },
      "execution_count": null,
      "outputs": []
    },
    {
      "cell_type": "code",
      "source": [
        "# 17- Describe the time complexity of accessing elements in a dictionary.?"
      ],
      "metadata": {
        "id": "TXJGGBzDIdux"
      },
      "execution_count": null,
      "outputs": []
    },
    {
      "cell_type": "code",
      "source": [
        "# 18- In what situations are lists preferred over dictionaries.?"
      ],
      "metadata": {
        "id": "eSwMKjC1Iex1"
      },
      "execution_count": null,
      "outputs": []
    },
    {
      "cell_type": "code",
      "source": [
        "# 19- Why are dictionaries considered unordered, and how does that affect data retrieval.?"
      ],
      "metadata": {
        "id": "SoBh8uohIfYF"
      },
      "execution_count": null,
      "outputs": []
    },
    {
      "cell_type": "code",
      "source": [
        "# 20- Explain the difference between a list and a dictionary in terms of data retrieval."
      ],
      "metadata": {
        "id": "uxDXOW3bJD_f"
      },
      "execution_count": null,
      "outputs": []
    },
    {
      "cell_type": "markdown",
      "source": [
        "***PRACTICAL*** QUESTIONS"
      ],
      "metadata": {
        "id": "j2lgLCoeIfyh"
      }
    },
    {
      "cell_type": "code",
      "source": [
        "# 1-Write a code to create a string with your name and print it.\n",
        "my_name=\"gunjan\"\n",
        "print(my_name)"
      ],
      "metadata": {
        "colab": {
          "base_uri": "https://localhost:8080/"
        },
        "id": "FWD2FUPYJnEw",
        "outputId": "ca82a263-edd2-4d2e-8505-d8784ad7d83a"
      },
      "execution_count": null,
      "outputs": [
        {
          "output_type": "stream",
          "name": "stdout",
          "text": [
            "gunjan\n"
          ]
        }
      ]
    },
    {
      "cell_type": "markdown",
      "source": [],
      "metadata": {
        "id": "Sc-1bk-aIf4o"
      }
    },
    {
      "cell_type": "code",
      "source": [
        "# 2-  Write a code to find the length of the string \"Hello World\".\n",
        "s = \"hello world\"\n",
        "print(len(s))"
      ],
      "metadata": {
        "colab": {
          "base_uri": "https://localhost:8080/"
        },
        "id": "mXNthJoxLemD",
        "outputId": "56694c52-9917-48f4-cfd9-f930a5167cba"
      },
      "execution_count": null,
      "outputs": [
        {
          "output_type": "stream",
          "name": "stdout",
          "text": [
            "11\n"
          ]
        }
      ]
    },
    {
      "cell_type": "code",
      "source": [
        "# 3-Write a code to slice the first 3 characters from the string \"Python Programming\".\n",
        "string = \"python programming\"\n",
        "string[0:3]"
      ],
      "metadata": {
        "id": "VP0uwi1UNtQb",
        "colab": {
          "base_uri": "https://localhost:8080/",
          "height": 36
        },
        "outputId": "0a6fc482-f6be-4860-d314-fcc6567942f5"
      },
      "execution_count": null,
      "outputs": [
        {
          "output_type": "execute_result",
          "data": {
            "text/plain": [
              "'pyt'"
            ],
            "application/vnd.google.colaboratory.intrinsic+json": {
              "type": "string"
            }
          },
          "metadata": {},
          "execution_count": 4
        }
      ]
    },
    {
      "cell_type": "code",
      "source": [
        "# 4- Write a code to convert the string \"hello\" to uppercase.\n",
        "string = \"hello\"\n",
        "print(string.upper())\n",
        "\n"
      ],
      "metadata": {
        "colab": {
          "base_uri": "https://localhost:8080/"
        },
        "id": "JQ09GmSQuIpW",
        "outputId": "b90b2cdd-ca95-4e42-8373-0429ed294bdd"
      },
      "execution_count": null,
      "outputs": [
        {
          "output_type": "stream",
          "name": "stdout",
          "text": [
            "HELLO\n"
          ]
        }
      ]
    },
    {
      "cell_type": "code",
      "source": [
        "# 5-Write a code to replace the word \"apple\" with \"orange\" in the string \"I like apple\".\n",
        "string = \"I like apple\"\n",
        "print(string.replace(\"apple\",\"orange\"))"
      ],
      "metadata": {
        "colab": {
          "base_uri": "https://localhost:8080/"
        },
        "id": "eX3RuvgtuIbU",
        "outputId": "f55d506c-d8a7-4134-e929-3ed84ef23092"
      },
      "execution_count": null,
      "outputs": [
        {
          "output_type": "stream",
          "name": "stdout",
          "text": [
            "I like orange\n"
          ]
        }
      ]
    },
    {
      "cell_type": "code",
      "source": [
        "# 6-P Write a code to create a list with numbers 1 to 5 and print it.\n",
        "list=[1,2,3,4,5]\n",
        "print (list)\n"
      ],
      "metadata": {
        "colab": {
          "base_uri": "https://localhost:8080/"
        },
        "id": "QQevI9FKuIKR",
        "outputId": "efb088ea-3c20-49cc-d540-7d8b11973b8c"
      },
      "execution_count": null,
      "outputs": [
        {
          "output_type": "stream",
          "name": "stdout",
          "text": [
            "[1, 2, 3, 4, 5]\n"
          ]
        }
      ]
    },
    {
      "cell_type": "code",
      "source": [
        "# 7- Write a code to append the number 10 to the list [1, 2, 3, 4].\n",
        "list=[1,2,3,4]\n",
        "list.append(10)\n",
        "print(list)"
      ],
      "metadata": {
        "colab": {
          "base_uri": "https://localhost:8080/"
        },
        "id": "iCfIWPR9uHmP",
        "outputId": "a0acfdc7-7885-47ec-ce3a-b292397efa42"
      },
      "execution_count": null,
      "outputs": [
        {
          "output_type": "stream",
          "name": "stdout",
          "text": [
            "[1, 2, 3, 4, 10]\n"
          ]
        }
      ]
    },
    {
      "cell_type": "code",
      "source": [
        "# 8-Write a code to remove the number 3 from the list [1, 2, 3,4].\n",
        "list=[1,2,3,4]\n",
        "list.remove(3)\n",
        "print(list)"
      ],
      "metadata": {
        "id": "xpW5toWowk_j",
        "colab": {
          "base_uri": "https://localhost:8080/"
        },
        "outputId": "87107c17-d48b-47a1-e8cf-35bb2cba832b"
      },
      "execution_count": null,
      "outputs": [
        {
          "output_type": "stream",
          "name": "stdout",
          "text": [
            "[1, 2, 4]\n"
          ]
        }
      ]
    },
    {
      "cell_type": "code",
      "source": [
        "# 9-Write a code to access the second element in the list ['a', 'b', 'c', 'd'].\n",
        "list1=['a','b','c','d']\n",
        "print(list1[1])"
      ],
      "metadata": {
        "id": "UnvowLj8e5IY",
        "colab": {
          "base_uri": "https://localhost:8080/"
        },
        "outputId": "8c60f3db-60e2-476a-f349-67f58f98534d"
      },
      "execution_count": null,
      "outputs": [
        {
          "output_type": "stream",
          "name": "stdout",
          "text": [
            "b\n"
          ]
        }
      ]
    },
    {
      "cell_type": "code",
      "source": [
        "#  10-Write a code to reverse the list [10, 20, 30, 40]\n",
        "list1=[10,20,30,40]\n",
        "list1.reverse()\n",
        "print(list1)"
      ],
      "metadata": {
        "colab": {
          "base_uri": "https://localhost:8080/"
        },
        "id": "iGU6coJeoErP",
        "outputId": "62c4ced2-32f6-4572-c6f9-3cce3d0fa8ba"
      },
      "execution_count": null,
      "outputs": [
        {
          "output_type": "stream",
          "name": "stdout",
          "text": [
            "[40, 30, 20, 10]\n"
          ]
        }
      ]
    },
    {
      "cell_type": "code",
      "source": [
        "# 11-Write a code to create a tuple with the elements 100,200,300 and print it.\n",
        "tuple=(100,200,300)\n",
        "print(tuple)"
      ],
      "metadata": {
        "colab": {
          "base_uri": "https://localhost:8080/"
        },
        "id": "mHPfVaakpzyB",
        "outputId": "e486a4bd-48eb-4e25-ff49-3b40cbc95b2a"
      },
      "execution_count": null,
      "outputs": [
        {
          "output_type": "stream",
          "name": "stdout",
          "text": [
            "(100, 200, 300)\n"
          ]
        }
      ]
    },
    {
      "cell_type": "code",
      "source": [
        "# 12-write a code to access the second -to-last elements of the tuple (\"red\",\"green\",\"blue\",\"yellow\").\n"
      ],
      "metadata": {
        "id": "n5bus7v6qcsw"
      },
      "execution_count": null,
      "outputs": []
    },
    {
      "cell_type": "code",
      "source": [
        "# 13-write a code to find the minimum number in the tuple (10,20,5,15)\n",
        "tuple1=(10,20,5,15)\n",
        "print(min(tuple1))"
      ],
      "metadata": {
        "colab": {
          "base_uri": "https://localhost:8080/"
        },
        "id": "nC2jzURBsC_U",
        "outputId": "bac73381-dd63-471c-e88b-026cb4e42f70"
      },
      "execution_count": null,
      "outputs": [
        {
          "output_type": "stream",
          "name": "stdout",
          "text": [
            "5\n"
          ]
        }
      ]
    },
    {
      "cell_type": "markdown",
      "source": [],
      "metadata": {
        "id": "hq2fchIBuS1y"
      }
    },
    {
      "cell_type": "code",
      "source": [
        "# 14-write a code to find the index of the elements \"cat\"in the tuple (\"dog\",\"cat\",\"rabbit\").\n",
        "item=(\"dog\",\"Cat\",\"rabbit\")\n",
        "X=item.index(\"Cat\")\n",
        "print(X)"
      ],
      "metadata": {
        "colab": {
          "base_uri": "https://localhost:8080/"
        },
        "id": "tojUyCmntw9H",
        "outputId": "4eaa243b-6368-41b6-96d0-c1f4da1c2d39"
      },
      "execution_count": null,
      "outputs": [
        {
          "output_type": "stream",
          "name": "stdout",
          "text": [
            "1\n"
          ]
        }
      ]
    },
    {
      "cell_type": "markdown",
      "source": [
        "\n"
      ],
      "metadata": {
        "id": "XLtsiwMOuRTp"
      }
    },
    {
      "cell_type": "code",
      "source": [
        "# 15- Write a code to create a tuple containing three different fruits and check if \"kiwi\" is in it.\n",
        "fruits=(\"apple\",\"banana\",\"kiwi\")\n",
        "if(\"kiwi\")in fruits:\n",
        "    print(\"yes\")\n",
        "else:\n",
        "    print(\"no\")"
      ],
      "metadata": {
        "colab": {
          "base_uri": "https://localhost:8080/"
        },
        "id": "adlUmHEaz1OI",
        "outputId": "53e2647b-5917-4bba-b134-504dd6f3a9ab"
      },
      "execution_count": null,
      "outputs": [
        {
          "output_type": "stream",
          "name": "stdout",
          "text": [
            "yes\n"
          ]
        }
      ]
    },
    {
      "cell_type": "markdown",
      "source": [],
      "metadata": {
        "id": "SkHm8YNnuRHv"
      }
    },
    {
      "cell_type": "code",
      "source": [
        "# 16-write to code a create a set with the elements 'a','b','c',and print it.\n",
        "set={'a','b','c'}\n",
        "print(set)"
      ],
      "metadata": {
        "colab": {
          "base_uri": "https://localhost:8080/"
        },
        "id": "jaReNyJ400nW",
        "outputId": "bae201b1-2185-4be9-f7b1-d5a9bbf3abaf"
      },
      "execution_count": null,
      "outputs": [
        {
          "output_type": "stream",
          "name": "stdout",
          "text": [
            "{'a', 'c', 'b'}\n"
          ]
        }
      ]
    },
    {
      "cell_type": "code",
      "source": [
        "# 17-write a code to clear all elements from the set {1,2,3,4,5}.\n",
        "set={1,2,3,4,5}\n",
        "set.clear()\n",
        "print(set)\n"
      ],
      "metadata": {
        "colab": {
          "base_uri": "https://localhost:8080/"
        },
        "id": "NrLjnBCo1Zsn",
        "outputId": "a9c507a5-2d3c-4ff6-9c17-7e438dca12b4"
      },
      "execution_count": null,
      "outputs": [
        {
          "output_type": "stream",
          "name": "stdout",
          "text": [
            "set()\n"
          ]
        }
      ]
    },
    {
      "cell_type": "code",
      "source": [
        "# 18-write a code to remove the elements 4 from the set {1,2,3,4}.\n",
        "set={1,2,3,4}\n",
        "set.remove(4)\n",
        "print(set)"
      ],
      "metadata": {
        "colab": {
          "base_uri": "https://localhost:8080/"
        },
        "id": "Of1-fp_02AsA",
        "outputId": "a65166ba-d0fa-46d2-f72a-18b39a4e206f"
      },
      "execution_count": null,
      "outputs": [
        {
          "output_type": "stream",
          "name": "stdout",
          "text": [
            "{1, 2, 3}\n"
          ]
        }
      ]
    },
    {
      "cell_type": "code",
      "source": [
        "# 19-write a code to find the unoin of two sets {1,2,3} and {3,4,5}.\n",
        "set1={1,2,3}\n",
        "set2={3,4,5}\n",
        "print(set1.union(set2))"
      ],
      "metadata": {
        "colab": {
          "base_uri": "https://localhost:8080/"
        },
        "id": "O7th-xEQ2hxT",
        "outputId": "6d5e629f-4912-4e4d-ed70-2bc58194e59d"
      },
      "execution_count": null,
      "outputs": [
        {
          "output_type": "stream",
          "name": "stdout",
          "text": [
            "{1, 2, 3, 4, 5}\n"
          ]
        }
      ]
    },
    {
      "cell_type": "code",
      "source": [
        "# 20-write a code to find the intersections of two sets {1,2,3} and {2,3,4}.\n",
        "set1={1,2,3}\n",
        "set2={2,3,4}\n",
        "print(set1.intersection(set2))"
      ],
      "metadata": {
        "colab": {
          "base_uri": "https://localhost:8080/"
        },
        "id": "v8xRLv963m_2",
        "outputId": "61c1de92-9d98-4e97-905c-8289435341a9"
      },
      "execution_count": null,
      "outputs": [
        {
          "output_type": "stream",
          "name": "stdout",
          "text": [
            "{2, 3}\n"
          ]
        }
      ]
    },
    {
      "cell_type": "code",
      "source": [
        "# 21-write a code to create a dictionary with the keys \"name\",\"age\",\"city\"and print it.\n",
        "dict={\"name\":\"gunjan\",\"age\":20,\"city\":\"delhi\"}\n",
        "print(dict)"
      ],
      "metadata": {
        "colab": {
          "base_uri": "https://localhost:8080/"
        },
        "id": "buJRQ5Sk4R0-",
        "outputId": "cb93bf86-46e2-444f-9790-1045439e5c16"
      },
      "execution_count": null,
      "outputs": [
        {
          "output_type": "stream",
          "name": "stdout",
          "text": [
            "{'name': 'gunjan', 'age': 20, 'city': 'delhi'}\n"
          ]
        }
      ]
    },
    {
      "cell_type": "markdown",
      "source": [
        "\""
      ],
      "metadata": {
        "id": "HP1nauhSzPFK"
      }
    },
    {
      "cell_type": "code",
      "source": [
        "# 22- Write a code to add a new key-value pair \"country\": \"USA\" to the dictionary{\"name\":\"john\",\"age\":25}"
      ],
      "metadata": {
        "id": "9bmPzWc941Lh"
      },
      "execution_count": null,
      "outputs": []
    },
    {
      "cell_type": "code",
      "source": [
        "# 23- Write a code to access the value associated with the key \"name\" in the dictionary {'name': 'Alice', 'age': 30}."
      ],
      "metadata": {
        "id": "P354AzfM5_mw"
      },
      "execution_count": null,
      "outputs": []
    },
    {
      "cell_type": "code",
      "source": [
        "# 24- Write a code to remove the key \"age\" from the dictionary {'name': 'Bob', 'age': 22, 'city': 'New York'}.\n"
      ],
      "metadata": {
        "id": "z12cwpXG5_Z9"
      },
      "execution_count": null,
      "outputs": []
    },
    {
      "cell_type": "code",
      "source": [
        "# 25- Write a code to check if the key \"city\" exists in the dictionary {'name': 'Alice', 'city': 'Paris'}.\n"
      ],
      "metadata": {
        "id": "BobJjVDI5_I4"
      },
      "execution_count": null,
      "outputs": []
    },
    {
      "cell_type": "code",
      "source": [
        "# 26-6. Write a code to create a list, a tuple, and a dictionary, and print them all.\n"
      ],
      "metadata": {
        "id": "0VWpyxJY5-vu"
      },
      "execution_count": null,
      "outputs": []
    },
    {
      "cell_type": "code",
      "source": [
        "# 27-. Write a code to create a list of 5 random numbers between 1 and 100, sort it in ascending order, and print the\n",
        "result.(replaced)."
      ],
      "metadata": {
        "id": "Bfrpx7jr59P7"
      },
      "execution_count": null,
      "outputs": []
    },
    {
      "cell_type": "code",
      "source": [
        "# 28- Write a code to create a list with strings and print the element at the third index.s"
      ],
      "metadata": {
        "id": "3a6pWmME58wH"
      },
      "execution_count": null,
      "outputs": []
    },
    {
      "cell_type": "code",
      "source": [
        "# 29-. Write a code to combine two dictionaries into one and print the result."
      ],
      "metadata": {
        "id": "NVASK0_R5qa3"
      },
      "execution_count": null,
      "outputs": []
    },
    {
      "cell_type": "code",
      "source": [
        "# 30- Write a code to convert a list of strings in to a set."
      ],
      "metadata": {
        "id": "7cYdDLJf5ni1"
      },
      "execution_count": null,
      "outputs": []
    }
  ]
}